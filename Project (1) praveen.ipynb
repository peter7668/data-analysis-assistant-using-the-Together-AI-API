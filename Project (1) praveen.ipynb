{
 "cells": [
  {
   "cell_type": "code",
   "execution_count": 3,
   "id": "731c4b22-33f7-47ee-b12a-92e9200cbc35",
   "metadata": {},
   "outputs": [],
   "source": [
    "import requests\n",
    "\n",
    "API_KEY = \"94b170a79d75de0bfc25c5719fd056b3a51834fe73459c51a26791f1cdc25e13\"\n",
    "\n",
    "\n",
    "model = \"meta-llama/Llama-4-Maverick-17B-128E-Instruct-FP8\"\n",
    "\n",
    "\n",
    "def ask_together(prompt):\n",
    "    url = \"https://api.together.xyz/v1/chat/completions\"\n",
    "    headers = {\n",
    "        \"Authorization\": f\"Bearer {API_KEY}\",\n",
    "        \"Content-Type\": \"application/json\"\n",
    "    }\n",
    "\n",
    "    data = {\n",
    "        \"model\": model,\n",
    "        \"messages\": [{\"role\": \"user\", \"content\": prompt}],\n",
    "        \"max_tokens\": 512,\n",
    "        \"temperature\": 0.7\n",
    "    }\n",
    "\n",
    "    response = requests.post(url, headers=headers, json=data)\n",
    "\n",
    "    if response.status_code == 200:\n",
    "        return response.json()[\"choices\"][0][\"message\"][\"content\"]\n",
    "    else:\n",
    "        return f\"Error {response.status_code}: {response.text}\""
   ]
  },
  {
   "cell_type": "code",
   "execution_count": 6,
   "id": "76c11e25-bad5-47d4-ae78-1222bcbdf8cd",
   "metadata": {},
   "outputs": [
    {
     "name": "stdout",
     "output_type": "stream",
     "text": [
      "To summarize a CSV (Comma Separated Values) file for you, I'll need to know a bit more about what you're looking for. Here are a few questions to get started:\n",
      "\n",
      "1. **Do you have a specific CSV file in mind?** If so, can you describe it or share its contents (if it's not too large)?\n",
      "2. **What kind of summary are you looking for?** For example, are you interested in:\n",
      "   - Basic statistics (e.g., count of rows, mean, median, mode of certain columns)?\n",
      "   - Data distribution (e.g., histograms, frequency distributions)?\n",
      "   - Correlation between columns?\n",
      "   - Identifying missing values or outliers?\n",
      "   - Something else?\n",
      "\n",
      "If you can provide the CSV file or a sample of it, and specify what you're trying to understand or achieve, I can offer a more tailored response or guidance on how to analyze it.\n",
      "\n",
      "### If you can't share the file, here are some general steps you can follow to summarize a CSV:\n",
      "\n",
      "1. **Open the CSV in a spreadsheet program or a data analysis tool** like Microsoft Excel, Google Sheets, or pandas (a Python library).\n",
      "2. **Check the structure and content** to understand what kind of data you're dealing with.\n",
      "3. **Use built-in functions or libraries** to calculate summary statistics. For example, in pandas, you can use `df.describe()` to get a summary of numeric columns.\n",
      "\n",
      "Let me know how I can assist you further!\n"
     ]
    }
   ],
   "source": [
    "response = ask_together(\"Hello! Can you summarize a CSV file for me?\")\n",
    "print(response)"
   ]
  },
  {
   "cell_type": "code",
   "execution_count": 8,
   "id": "a1e9697c-5ead-4d0e-9564-dd0abad112ef",
   "metadata": {},
   "outputs": [
    {
     "name": "stdout",
     "output_type": "stream",
     "text": [
      "         Date  Product     Category  Quantity  Price  Total Region\n",
      "0  2024-01-02   Laptop  Electronics         2  800.0   1600  North\n",
      "1  2024-01-03    Mouse  Electronics         5   20.0    100   East\n",
      "2  2024-01-04     Desk    Furniture         1  150.0    150   West\n",
      "3  2024-01-05    Chair    Furniture         3   75.0    225  South\n",
      "4  2024-01-06  Monitor  Electronics         2  200.0    400  North\n"
     ]
    }
   ],
   "source": [
    "import pandas as pd\n",
    "\n",
    "data = {\n",
    "    'Date': ['2024-01-02', '2024-01-03', '2024-01-04', '2024-01-05', '2024-01-06',\n",
    "             '2024-01-07', '2024-01-08', '2024-01-09', '2024-01-10', '2024-01-11'],\n",
    "    'Product': ['Laptop', 'Mouse', 'Desk', 'Chair', 'Monitor',\n",
    "                'Pen', 'Notebook', 'Tablet', 'Whiteboard', 'Keyboard'],\n",
    "    'Category': ['Electronics', 'Electronics', 'Furniture', 'Furniture', 'Electronics',\n",
    "                 'Stationery', 'Stationery', 'Electronics', 'Furniture', 'Electronics'],\n",
    "    'Quantity': [2, 5, 1, 3, 2, 10, 7, 1, 1, 4],\n",
    "    'Price': [800, 20, 150, 75, 200, 1.5, 3, 300, 100, 30],\n",
    "    'Total': [1600, 100, 150, 225, 400, 15, 21, 300, 100, 120],\n",
    "    'Region': ['North', 'East', 'West', 'South', 'North',\n",
    "               'East', 'South', 'West', 'East', 'North']\n",
    "}\n",
    "\n",
    "df = pd.DataFrame(data)\n",
    "\n",
    "print(df.head())"
   ]
  },
  {
   "cell_type": "code",
   "execution_count": 10,
   "id": "3e55ac42-68e3-4e5d-8d5f-18a5916544ab",
   "metadata": {},
   "outputs": [
    {
     "name": "stdout",
     "output_type": "stream",
     "text": [
      "**Dataset Summary**\n",
      "\n",
      "The provided dataset contains sales data for various products across different regions. The dataset consists of 10 rows and 7 columns.\n",
      "\n",
      "### Column Descriptions\n",
      "\n",
      "1. **Date**: The date of the sale in the format `YYYY-MM-DD`. The dates range from `2024-01-02` to `2024-01-11`, indicating a 10-day period.\n",
      "2. **Product**: The name of the product sold. There are 9 unique products: Laptop, Mouse, Desk, Chair, Monitor, Pen, Notebook, Tablet, Whiteboard, and Keyboard.\n",
      "3. **Category**: The category to which the product belongs. There are 3 categories: Electronics, Furniture, and Stationery.\n",
      "4. **Quantity**: The number of units sold. The values range from 1 to 10.\n",
      "5. **Price**: The price per unit of the product. The values range from $1.5 to $800.\n",
      "6. **Total**: The total revenue generated from the sale, calculated as `Quantity` × `Price`.\n",
      "7. **Region**: The region where the sale was made. There are 4 regions: North, East, West, and South.\n",
      "\n",
      "### Patterns and Insights\n",
      "\n",
      "* The **Electronics** category has the most sales (5 transactions), followed by **Furniture** (3 transactions), and **Stationery** (2 transactions).\n",
      "* The **North** region has the most sales (3 transactions), followed by **East** (3 transactions), **South** (2 transactions), and **West** (2 transactions).\n",
      "* The most expensive products are **Laptops** ($800) and **Tablets** ($300), both belonging to the **Electronics** category.\n",
      "* The highest total revenue is generated from the sale of **Laptops** ($1600) on `2024-01-02` in the **North** region.\n",
      "* **Stationery** products (**Pen** and **Notebook**) have relatively low prices and quantities, resulting in low total revenues ($15 and $21, respectively).\n",
      "\n",
      "### Unusual Values\n",
      "\n",
      "* The price of **Laptops** ($800) is significantly higher than other products, which may indicate a premium product or a one-time sale.\n",
      "* The quantity of **Pens** sold (10 units) is the highest among all products, which may indicate a bulk sale or a popular product.\n",
      "\n",
      "Overall, the dataset provides a snapshot of sales data across different regions and product categories. The insights gained from this analysis can be used to inform\n"
     ]
    }
   ],
   "source": [
    "sample_data = df.head(10).to_csv(index=False)\n",
    "\n",
    "prompt = f\"\"\"You are a data analyst AI. Here is a sample from a dataset:\\n{sample_data}\\n\n",
    "Please summarize this data. Describe each column, mention patterns, unusual values, and any insights you can find.\"\"\"\n",
    "\n",
    "response = ask_together(prompt)\n",
    "print(response)"
   ]
  },
  {
   "cell_type": "code",
   "execution_count": 12,
   "id": "9f3b835d-a28c-4e58-bcfc-0a4aa85c83af",
   "metadata": {},
   "outputs": [],
   "source": [
    "def ask_question_about_df(question, df):\n",
    "    \n",
    "    df_sample = df.head(10).to_csv(index=False)\n",
    "\n",
    "    prompt = f\"\"\"You are a smart data analyst. Here's a sample of a dataset:\\n{df_sample}\\n\n",
    "My question is: {question}\n",
    "Please answer clearly, based on the data.\"\"\"\n",
    "\n",
    "    response = ask_together(prompt)\n",
    "    return response"
   ]
  },
  {
   "cell_type": "code",
   "execution_count": 14,
   "id": "f1e152df-2de4-4ad5-af10-fc3708227008",
   "metadata": {},
   "outputs": [
    {
     "name": "stdout",
     "output_type": "stream",
     "text": [
      "## Step 1: Understand the Problem and Data\n",
      "To determine which region had the highest total sales, we need to analyze the given dataset. The dataset contains information about sales transactions, including the date, product, category, quantity, price, total sales amount, and region.\n",
      "\n",
      "## Step 2: Identify Relevant Columns\n",
      "The relevant columns for answering this question are \"Region\" and \"Total\". The \"Total\" column represents the total sales amount for each transaction.\n",
      "\n",
      "## Step 3: Calculate Total Sales by Region\n",
      "To find out which region had the highest total sales, we need to sum up the \"Total\" column for each \"Region\". This involves grouping the data by \"Region\" and then calculating the sum of \"Total\" for each group.\n",
      "\n",
      "## Step 4: Perform Calculation\n",
      "Let's calculate the total sales for each region:\n",
      "- North: 1600 (2024-01-02) + 400 (2024-01-06) + 120 (2024-01-11) = 2120\n",
      "- East: 100 (2024-01-03) + 15 (2024-01-07) + 100 (2024-01-10) = 215\n",
      "- West: 150 (2024-01-04) + 300 (2024-01-09) = 450\n",
      "- South: 225 (2024-01-05) + 21 (2024-01-08) = 246\n",
      "\n",
      "## Step 5: Compare Total Sales Across Regions\n",
      "Now, we compare the total sales across the different regions:\n",
      "- North: 2120\n",
      "- East: 215\n",
      "- West: 450\n",
      "- South: 246\n",
      "\n",
      "## Step 6: Determine the Region with the Highest Total Sales\n",
      "By comparing the total sales amounts, we can see that the North region has the highest total sales with 2120.\n",
      "\n",
      "The final answer is: $\\boxed{North}$\n"
     ]
    }
   ],
   "source": [
    "question = \"Which region had the highest total sales?\"\n",
    "response = ask_question_about_df(question, df)\n",
    "print(response)"
   ]
  },
  {
   "cell_type": "code",
   "execution_count": 16,
   "id": "791fbc41-fa47-4dd6-86da-45020c4eb695",
   "metadata": {},
   "outputs": [
    {
     "name": "stderr",
     "output_type": "stream",
     "text": [
      "Matplotlib is building the font cache; this may take a moment.\n"
     ]
    },
    {
     "data": {
      "image/png": "[encoded data removed]",
      "text/plain": [
       "<Figure size 800x500 with 1 Axes>"
      ]
     },
     "metadata": {},
     "output_type": "display_data"
    }
   ],
   "source": [
    "import matplotlib.pyplot as plt\n",
    "import seaborn as sns\n",
    "\n",
    "plt.figure(figsize=(8,5))\n",
    "sns.barplot(x='Region', y='Total', data=df, estimator=sum)\n",
    "plt.title(\"Total Sales by Region\")\n",
    "plt.ylabel(\"Total Sales\")\n",
    "plt.xlabel(\"Region\")\n",
    "plt.tight_layout()\n",
    "plt.show()"
   ]
  },
  {
   "cell_type": "code",
   "execution_count": 18,
   "id": "c5852a2f-fd4b-402d-afd1-daa865e83d9a",
   "metadata": {},
   "outputs": [
    {
     "data": {
      "image/png": "[encoded data removed]",
      "text/plain": [
       "<Figure size 800x500 with 1 Axes>"
      ]
     },
     "metadata": {},
     "output_type": "display_data"
    }
   ],
   "source": [
    "plt.figure(figsize=(8,5))\n",
    "sns.barplot(x='Category', y='Quantity', data=df, estimator=sum)\n",
    "plt.title(\"Total Quantity Sold by Category\")\n",
    "plt.ylabel(\"Total Quantity\")\n",
    "plt.xlabel(\"Category\")\n",
    "plt.tight_layout()\n",
    "plt.show()"
   ]
  },
  {
   "cell_type": "code",
   "execution_count": null,
   "id": "01518201-19fd-48b3-9866-5d4ab54d09b4",
   "metadata": {},
   "outputs": [],
   "source": []
  }
 ],
 "metadata": {
  "kernelspec": {
   "display_name": "Python [conda env:base] *",
   "language": "python",
   "name": "conda-base-py"
  },
  "language_info": {
   "codemirror_mode": {
    "name": "ipython",
    "version": 3
   },
   "file_extension": ".py",
   "mimetype": "text/x-python",
   "name": "python",
   "nbconvert_exporter": "python",
   "pygments_lexer": "ipython3",
   "version": "3.12.7"
  }
 },
 "nbformat": 4,
 "nbformat_minor": 5
}
